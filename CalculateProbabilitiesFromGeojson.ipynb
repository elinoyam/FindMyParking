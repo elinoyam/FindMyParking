{
  "nbformat": 4,
  "nbformat_minor": 0,
  "metadata": {
    "colab": {
      "name": "CalculateProbabilitiesFromGeojson.ipynb",
      "provenance": [],
      "collapsed_sections": [],
      "authorship_tag": "ABX9TyPEkgTylLWdqnI/H2zs96lR",
      "include_colab_link": true
    },
    "kernelspec": {
      "name": "python3",
      "display_name": "Python 3"
    },
    "language_info": {
      "name": "python"
    },
    "gpuClass": "standard",
    "accelerator": "GPU"
  },
  "cells": [
    {
      "cell_type": "markdown",
      "metadata": {
        "id": "view-in-github",
        "colab_type": "text"
      },
      "source": [
        "<a href=\"https://colab.research.google.com/github/elinoyam/FindMyParking/blob/WorkingWithColab/CalculateProbabilitiesFromGeojson.ipynb\" target=\"_parent\"><img src=\"https://colab.research.google.com/assets/colab-badge.svg\" alt=\"Open In Colab\"/></a>"
      ]
    },
    {
      "cell_type": "code",
      "source": [
        "import json\n",
        "import requests\n",
        "import numpy as np\n",
        "!pip install geojson\n",
        "import geojson"
      ],
      "metadata": {
        "id": "P_t5gVseTqH9",
        "outputId": "2d46fec0-6209-4aa0-e695-67884126092f",
        "colab": {
          "base_uri": "https://localhost:8080/"
        }
      },
      "execution_count": 2,
      "outputs": [
        {
          "output_type": "stream",
          "name": "stdout",
          "text": [
            "Looking in indexes: https://pypi.org/simple, https://us-python.pkg.dev/colab-wheels/public/simple/\n",
            "Collecting geojson\n",
            "  Downloading geojson-2.5.0-py2.py3-none-any.whl (14 kB)\n",
            "Installing collected packages: geojson\n",
            "Successfully installed geojson-2.5.0\n"
          ]
        }
      ]
    },
    {
      "cell_type": "code",
      "execution_count": 3,
      "metadata": {
        "id": "NFaCas82PTUv"
      },
      "outputs": [],
      "source": [
        "def find_osm_node_id(coordinate):\n",
        "  lat = coordinate[0]\n",
        "  lon = coordinate[1]\n",
        "  # get the way id - request json format of the reverse method of OSM librery nominatim\n",
        "  request_url = \"https://nominatim.openstreetmap.org/reverse?format=geojson&osm_type=N&lat=\" + f'{lat:f}' + \"&lon=\" + f'{lon:f}'\n",
        "  #print(request_url)\n",
        "  response = requests.get(request_url)\n",
        "  way_id_response = json.loads(response.text)\n",
        "  #print(way_id_response)\n",
        "  osm_type = way_id_response['features'][0]['properties']['osm_type']\n",
        "  node_id = way_id_response['features'][0]['properties']['osm_id'] \n",
        "  if osm_type != \"node\":\n",
        "    print(\"not node:\")\n",
        "    print(node_id)\n",
        "\n",
        "  return node_id"
      ]
    },
    {
      "cell_type": "code",
      "source": [
        "def calculate_coords(list_of_old_coorinates):\n",
        "  transformed_coordinates = []\n",
        "  for old_cord in list_of_old_coorinates:\n",
        "    old_lat = old_cord[0]\n",
        "    old_lon = old_cord[1]\n",
        "    # get the latitude and longitude in the right coordinates \n",
        "    # from the original format EPSG:25833 to format: EPSG:4326\n",
        "    request_url = \"https://epsg.io/trans?s_srs=25833&t_srs=4326&x=\"+str(old_lat)+\"&y=\" + str(old_lon)\n",
        "    response = requests.get(request_url)\n",
        "    transform_coordinates_response = json.loads(response.text)\n",
        "    trans_lon = transform_coordinates_response['x']\n",
        "    trans_lat = transform_coordinates_response['y']\n",
        "    transformed_coordinates.append([float(trans_lat), float(trans_lon)])\n",
        "  \n",
        "  return transformed_coordinates\n"
      ],
      "metadata": {
        "id": "XRziUtk2UD9e"
      },
      "execution_count": 4,
      "outputs": []
    },
    {
      "cell_type": "code",
      "source": [
        "def transform_line(line):\n",
        "  old_coords = line['geometry']['coordinates'][0][0]\n",
        "  transformed_coords = calculate_coords(old_coords)\n",
        "  osm_id = find_osm_node_id(transformed_coords[0])\n",
        "  # calculate parking area\n",
        "  all_lats = [x for x,y in transformed_coords]\n",
        "  all_lons = [y for x,y in transformed_coords]\n",
        "  parking_area = polygon_area(all_lats, all_lons) # we multiply by 1000 to convet to m2 instead of km2\n",
        "  # calculate number of parking spots in the parking area\n",
        "  single_parking_area = 4.88 * 2.44\n",
        "  number_of_parking = parking_area / single_parking_area\n",
        "  # print(number_of_parking)\n",
        "  # get the label (parking empty/occupied)\n",
        "  line_label = line['properties']['label_x']\n",
        "\n",
        "  return osm_id, line_label, number_of_parking"
      ],
      "metadata": {
        "id": "iP8edSm8Xl_8"
      },
      "execution_count": 11,
      "outputs": []
    },
    {
      "cell_type": "code",
      "source": [
        "# line = '{ \"type\": \"Feature\", \"properties\": { \"id\": 1, \"label_x\": \"PK-space-occupied\", \"True_or_False\": null, \"label_y\": null, \"nearest_geometry_dis\": null, \"parking_area_m2\": null, \"layer\": \"Annotaions Predictions\", \"path\": \"F:/Berlin-DOP_2020/Predictions/Previously created maps/Annotations/Annotaions.geojson\" }, \"geometry\": { \"type\": \"MultiPolygon\", \"coordinates\": [ [ [ [ 391008.0878, 5821088.3568 ], [ 391002.407, 5821095.493 ], [ 391004.3319, 5821096.9484 ], [ 391009.8718, 5821089.4366 ], [ 391008.1817, 5821088.2629 ], [ 391008.0878, 5821088.3568 ] ] ] ] } }'\n",
        "# #line = line.replace(\"null\", \"None\")\n",
        "# json_line = json.loads(line)\n",
        "# transform_line(json_line)"
      ],
      "metadata": {
        "id": "vqpuinsZGsxg"
      },
      "execution_count": null,
      "outputs": []
    },
    {
      "cell_type": "code",
      "source": [
        "# osm_id = find_osm_node_id([52.54203249, 13.41329482])\n",
        "# print(osm_id)"
      ],
      "metadata": {
        "colab": {
          "base_uri": "https://localhost:8080/"
        },
        "id": "GTs6Li0p-XdX",
        "outputId": "ed6c819e-b45d-461e-d844-2de04b5c198a"
      },
      "execution_count": null,
      "outputs": [
        {
          "output_type": "stream",
          "name": "stdout",
          "text": [
            "692194370\n"
          ]
        }
      ]
    },
    {
      "cell_type": "code",
      "source": [
        "# input_coord = [ [ 392395.9, 5822510.25 ], [ 392396.65, 5822510.8 ], [ 392398.25, 5822513.5 ], [ 392398.15, 5822513.8 ], [ 392397.6, 5822514.35 ], [ 392397.1, 5822514.65 ], [ 392396.6, 5822514.55 ], [ 392396.25, 5822514.2 ], [ 392395.15, 5822512.6 ], [ 392394.95, 5822512.1 ], [ 392394.95, 5822511.6 ], [ 392395.35, 5822510.7 ], [ 392395.9, 5822510.25 ]]\n",
        "\n",
        "# output_coord = calculate_coords(input_coord)\n",
        "\n",
        "# print(output_coord)\n",
        "\n",
        "# for cord in output_coord:\n",
        "#   found_id = find_osm_node_id(cord)\n",
        "#   print(found_id)"
      ],
      "metadata": {
        "id": "bLIb4hRMgvKE"
      },
      "execution_count": null,
      "outputs": []
    },
    {
      "cell_type": "code",
      "source": [
        "# first way to calculate area on the earth surface\n",
        "\n",
        "!pip install area\n",
        "from area import area\n",
        "poly_obj = {'type':'Polygon','coordinates':[[[52.54203249, 13.41329482], [52.54203758, 13.41330569], [52.54206216, 13.4133284], [52.54206483, 13.41332683], [52.54206967, 13.41331855], [52.54207226, 13.41331108], [52.54207127, 13.41330374], [52.54206805, 13.4132987], [52.54205346, 13.413283], [52.54204892, 13.41328021], [52.54204443, 13.41328038], [52.54203642, 13.41328656], [52.54203249, 13.41329482]]]}\n",
        "area(poly_obj)"
      ],
      "metadata": {
        "id": "NL3ofPzG9MAu",
        "outputId": "02aca385-1c5a-4a3b-9a10-7b3a665d719c",
        "colab": {
          "base_uri": "https://localhost:8080/"
        }
      },
      "execution_count": 7,
      "outputs": [
        {
          "output_type": "stream",
          "name": "stdout",
          "text": [
            "Looking in indexes: https://pypi.org/simple, https://us-python.pkg.dev/colab-wheels/public/simple/\n",
            "Collecting area\n",
            "  Downloading area-1.1.1.tar.gz (4.1 kB)\n",
            "Building wheels for collected packages: area\n",
            "  Building wheel for area (setup.py) ... \u001b[?25l\u001b[?25hdone\n",
            "  Created wheel for area: filename=area-1.1.1-py3-none-any.whl size=3626 sha256=461e31f198000aaf9e36bd7881acc5412541328e6c2f20751cec56663c8a5473\n",
            "  Stored in directory: /root/.cache/pip/wheels/59/e8/a2/0a9be8239358f5e3b48e1b5cb756f98b0f992b881e1b8b21b2\n",
            "Successfully built area\n",
            "Installing collected packages: area\n",
            "Successfully installed area-1.1.1\n"
          ]
        },
        {
          "output_type": "execute_result",
          "data": {
            "text/plain": [
              "13.324528739947908"
            ]
          },
          "metadata": {},
          "execution_count": 7
        }
      ]
    },
    {
      "cell_type": "code",
      "source": [
        "# second (and more precise) way for calculating the area on earth surface\n",
        "\n",
        "def polygon_area(lats, lons, radius = 6378137):\n",
        "    \"\"\"\n",
        "    Computes area of spherical polygon, assuming spherical Earth. \n",
        "    Returns result in ratio of the sphere's area if the radius is specified.\n",
        "    Otherwise, in the units of provided radius.\n",
        "    lats and lons are in degrees.\n",
        "    \"\"\"\n",
        "    from numpy import arctan2, cos, sin, sqrt, pi, power, append, diff, deg2rad\n",
        "    lats = np.deg2rad(lats)\n",
        "    lons = np.deg2rad(lons)\n",
        "\n",
        "    # Line integral based on Green's Theorem, assumes spherical Earth\n",
        "\n",
        "    #close polygon\n",
        "    if lats[0]!=lats[-1]:\n",
        "        lats = append(lats, lats[0])\n",
        "        lons = append(lons, lons[0])\n",
        "\n",
        "    #colatitudes relative to (0,0)\n",
        "    a = sin(lats/2)**2 + cos(lats)* sin(lons/2)**2\n",
        "    colat = 2*arctan2( sqrt(a), sqrt(1-a) )\n",
        "\n",
        "    #azimuths relative to (0,0)\n",
        "    az = arctan2(cos(lats) * sin(lons), sin(lats)) % (2*pi)\n",
        "\n",
        "    # Calculate diffs\n",
        "    # daz = diff(az) % (2*pi)\n",
        "    daz = diff(az)\n",
        "    daz = (daz + pi) % (2 * pi) - pi\n",
        "\n",
        "    deltas=diff(colat)/2\n",
        "    colat=colat[0:-1]+deltas\n",
        "\n",
        "    # Perform integral\n",
        "    integrands = (1-cos(colat)) * daz\n",
        "\n",
        "    # Integrate \n",
        "    area = abs(sum(integrands))/(4*pi)\n",
        "\n",
        "    area = min(area,1-area)\n",
        "    if radius is not None: #return in units of radius\n",
        "        return area * 4*pi*radius**2\n",
        "    else: #return in ratio of sphere total area\n",
        "        return area"
      ],
      "metadata": {
        "id": "768U9_dp9JtF"
      },
      "execution_count": 8,
      "outputs": []
    },
    {
      "cell_type": "code",
      "source": [
        "file_path = \"parking.geojson\"\n",
        "# count the parking spots members:\n",
        "empty_pk_spots = {}\n",
        "occupied_pk_spots = {}\n",
        "\n",
        "# open the file using geojson (less updated)\n",
        "with open(file_path) as f:\n",
        "    data_file = geojson.load(f)\n",
        "    features_array = data_file['features']\n",
        "\n",
        "    for feature in features_array:\n",
        "      node_id, label, amount = transform_line(feature)\n",
        "      if label == 'PK-space-occupied':\n",
        "        occupied_count = occupied_pk_spots.setdefault(node_id, 0)\n",
        "        occupied_pk_spots[node_id] = occupied_count + 1\n",
        "      elif label == 'PK-space-empty':\n",
        "        empty_count = empty_pk_spots.setdefault(node_id, 0)\n",
        "        empty_pk_spots[node_id] = empty_count + 1 \n"
      ],
      "metadata": {
        "id": "4F3N5NiDpChZ",
        "outputId": "64f62188-0d9e-4785-873d-d4dba38d2a84",
        "colab": {
          "base_uri": "https://localhost:8080/",
          "height": 1000
        }
      },
      "execution_count": 12,
      "outputs": [
        {
          "output_type": "stream",
          "name": "stdout",
          "text": [
            "not node:\n",
            "5758790\n",
            "not node:\n",
            "5758790\n",
            "not node:\n",
            "390623189\n",
            "not node:\n",
            "390623189\n",
            "not node:\n",
            "390623189\n",
            "not node:\n",
            "390623189\n",
            "not node:\n",
            "53332487\n",
            "not node:\n",
            "147659855\n",
            "not node:\n",
            "14375945\n",
            "not node:\n",
            "14375945\n",
            "not node:\n",
            "14375945\n",
            "not node:\n",
            "14375945\n",
            "not node:\n",
            "116676564\n",
            "not node:\n",
            "116676564\n",
            "not node:\n",
            "116676564\n",
            "not node:\n",
            "116676564\n",
            "not node:\n",
            "116676564\n",
            "not node:\n",
            "116676564\n",
            "not node:\n",
            "180662834\n",
            "not node:\n",
            "180662836\n",
            "not node:\n",
            "180662834\n",
            "not node:\n",
            "180662834\n",
            "not node:\n",
            "381196085\n",
            "not node:\n",
            "391005378\n",
            "not node:\n",
            "267229894\n",
            "not node:\n",
            "267229891\n",
            "not node:\n",
            "8096771\n",
            "not node:\n",
            "105786490\n",
            "not node:\n",
            "105786498\n",
            "not node:\n",
            "105786498\n",
            "not node:\n",
            "201198297\n",
            "not node:\n",
            "105786501\n",
            "not node:\n",
            "201198297\n",
            "not node:\n",
            "105785524\n",
            "not node:\n",
            "105785524\n",
            "not node:\n",
            "105785524\n",
            "not node:\n",
            "105785524\n",
            "not node:\n",
            "201198297\n",
            "not node:\n",
            "105786501\n",
            "not node:\n",
            "105785522\n",
            "not node:\n",
            "105785522\n",
            "not node:\n",
            "105785522\n",
            "not node:\n",
            "116676564\n",
            "not node:\n",
            "116676564\n",
            "not node:\n",
            "116676564\n",
            "not node:\n",
            "116676564\n",
            "not node:\n",
            "8003639\n",
            "not node:\n",
            "8003639\n",
            "not node:\n",
            "301595370\n",
            "not node:\n",
            "301595370\n",
            "not node:\n",
            "301595370\n",
            "not node:\n",
            "301595370\n",
            "not node:\n",
            "301595370\n",
            "not node:\n",
            "301595370\n",
            "not node:\n",
            "301595370\n",
            "not node:\n",
            "301595370\n",
            "not node:\n",
            "590865980\n",
            "not node:\n",
            "8096771\n",
            "not node:\n",
            "267229894\n",
            "not node:\n",
            "267229898\n",
            "not node:\n",
            "267229903\n",
            "not node:\n",
            "8096771\n",
            "not node:\n",
            "8096771\n",
            "not node:\n",
            "8096771\n",
            "not node:\n",
            "8096771\n",
            "not node:\n",
            "127914651\n",
            "not node:\n",
            "390623174\n",
            "not node:\n",
            "105786493\n",
            "not node:\n",
            "105786488\n",
            "not node:\n",
            "105786493\n",
            "not node:\n",
            "105786488\n",
            "not node:\n",
            "105786487\n",
            "not node:\n",
            "105786493\n",
            "not node:\n",
            "105786483\n",
            "not node:\n",
            "105786483\n",
            "not node:\n",
            "217745069\n",
            "not node:\n",
            "105786494\n",
            "not node:\n",
            "321192976\n",
            "not node:\n",
            "321192976\n",
            "not node:\n",
            "116676564\n",
            "not node:\n",
            "116676564\n",
            "not node:\n",
            "116676564\n",
            "not node:\n",
            "116676564\n",
            "not node:\n",
            "180687339\n",
            "not node:\n",
            "180687339\n",
            "not node:\n",
            "180687339\n",
            "not node:\n",
            "180687339\n",
            "not node:\n",
            "180687339\n",
            "not node:\n",
            "169814732\n",
            "not node:\n",
            "169814732\n",
            "not node:\n",
            "169814741\n",
            "not node:\n",
            "169814741\n",
            "not node:\n",
            "169814741\n",
            "not node:\n",
            "301595370\n",
            "not node:\n",
            "301595370\n",
            "not node:\n",
            "301595370\n",
            "not node:\n",
            "590865980\n",
            "not node:\n",
            "267229903\n",
            "not node:\n",
            "267229903\n",
            "not node:\n",
            "267236682\n",
            "not node:\n",
            "24544090\n",
            "not node:\n",
            "24544413\n",
            "not node:\n",
            "386891144\n",
            "not node:\n",
            "24531411\n",
            "not node:\n",
            "386891142\n",
            "not node:\n",
            "24362268\n",
            "not node:\n",
            "127914651\n",
            "not node:\n",
            "180687339\n",
            "not node:\n",
            "180687339\n",
            "not node:\n",
            "180541150\n",
            "not node:\n",
            "180541150\n",
            "not node:\n",
            "180541150\n",
            "not node:\n",
            "180541150\n",
            "not node:\n",
            "1014270870\n",
            "not node:\n",
            "179260841\n",
            "not node:\n",
            "179260841\n",
            "not node:\n",
            "179260841\n",
            "not node:\n",
            "1014270870\n",
            "not node:\n",
            "1014270870\n",
            "not node:\n",
            "179260841\n",
            "not node:\n",
            "179260841\n",
            "not node:\n",
            "179260841\n"
          ]
        },
        {
          "output_type": "error",
          "ename": "JSONDecodeError",
          "evalue": "ignored",
          "traceback": [
            "\u001b[0;31m---------------------------------------------------------------------------\u001b[0m",
            "\u001b[0;31mJSONDecodeError\u001b[0m                           Traceback (most recent call last)",
            "\u001b[0;32m<ipython-input-12-d75000ef0eaf>\u001b[0m in \u001b[0;36m<module>\u001b[0;34m\u001b[0m\n\u001b[1;32m     10\u001b[0m \u001b[0;34m\u001b[0m\u001b[0m\n\u001b[1;32m     11\u001b[0m     \u001b[0;32mfor\u001b[0m \u001b[0mfeature\u001b[0m \u001b[0;32min\u001b[0m \u001b[0mfeatures_array\u001b[0m\u001b[0;34m:\u001b[0m\u001b[0;34m\u001b[0m\u001b[0;34m\u001b[0m\u001b[0m\n\u001b[0;32m---> 12\u001b[0;31m       \u001b[0mnode_id\u001b[0m\u001b[0;34m,\u001b[0m \u001b[0mlabel\u001b[0m\u001b[0;34m,\u001b[0m \u001b[0mamount\u001b[0m \u001b[0;34m=\u001b[0m \u001b[0mtransform_line\u001b[0m\u001b[0;34m(\u001b[0m\u001b[0mfeature\u001b[0m\u001b[0;34m)\u001b[0m\u001b[0;34m\u001b[0m\u001b[0;34m\u001b[0m\u001b[0m\n\u001b[0m\u001b[1;32m     13\u001b[0m       \u001b[0;32mif\u001b[0m \u001b[0mlabel\u001b[0m \u001b[0;34m==\u001b[0m \u001b[0;34m'PK-space-occupied'\u001b[0m\u001b[0;34m:\u001b[0m\u001b[0;34m\u001b[0m\u001b[0;34m\u001b[0m\u001b[0m\n\u001b[1;32m     14\u001b[0m         \u001b[0moccupied_count\u001b[0m \u001b[0;34m=\u001b[0m \u001b[0moccupied_pk_spots\u001b[0m\u001b[0;34m.\u001b[0m\u001b[0msetdefault\u001b[0m\u001b[0;34m(\u001b[0m\u001b[0mnode_id\u001b[0m\u001b[0;34m,\u001b[0m \u001b[0;36m0\u001b[0m\u001b[0;34m)\u001b[0m\u001b[0;34m\u001b[0m\u001b[0;34m\u001b[0m\u001b[0m\n",
            "\u001b[0;32m<ipython-input-11-e44bc99f7cfc>\u001b[0m in \u001b[0;36mtransform_line\u001b[0;34m(line)\u001b[0m\n\u001b[1;32m      1\u001b[0m \u001b[0;32mdef\u001b[0m \u001b[0mtransform_line\u001b[0m\u001b[0;34m(\u001b[0m\u001b[0mline\u001b[0m\u001b[0;34m)\u001b[0m\u001b[0;34m:\u001b[0m\u001b[0;34m\u001b[0m\u001b[0;34m\u001b[0m\u001b[0m\n\u001b[1;32m      2\u001b[0m   \u001b[0mold_coords\u001b[0m \u001b[0;34m=\u001b[0m \u001b[0mline\u001b[0m\u001b[0;34m[\u001b[0m\u001b[0;34m'geometry'\u001b[0m\u001b[0;34m]\u001b[0m\u001b[0;34m[\u001b[0m\u001b[0;34m'coordinates'\u001b[0m\u001b[0;34m]\u001b[0m\u001b[0;34m[\u001b[0m\u001b[0;36m0\u001b[0m\u001b[0;34m]\u001b[0m\u001b[0;34m[\u001b[0m\u001b[0;36m0\u001b[0m\u001b[0;34m]\u001b[0m\u001b[0;34m\u001b[0m\u001b[0;34m\u001b[0m\u001b[0m\n\u001b[0;32m----> 3\u001b[0;31m   \u001b[0mtransformed_coords\u001b[0m \u001b[0;34m=\u001b[0m \u001b[0mcalculate_coords\u001b[0m\u001b[0;34m(\u001b[0m\u001b[0mold_coords\u001b[0m\u001b[0;34m)\u001b[0m\u001b[0;34m\u001b[0m\u001b[0;34m\u001b[0m\u001b[0m\n\u001b[0m\u001b[1;32m      4\u001b[0m   \u001b[0mosm_id\u001b[0m \u001b[0;34m=\u001b[0m \u001b[0mfind_osm_node_id\u001b[0m\u001b[0;34m(\u001b[0m\u001b[0mtransformed_coords\u001b[0m\u001b[0;34m[\u001b[0m\u001b[0;36m0\u001b[0m\u001b[0;34m]\u001b[0m\u001b[0;34m)\u001b[0m\u001b[0;34m\u001b[0m\u001b[0;34m\u001b[0m\u001b[0m\n\u001b[1;32m      5\u001b[0m   \u001b[0;31m# calculate parking area\u001b[0m\u001b[0;34m\u001b[0m\u001b[0;34m\u001b[0m\u001b[0;34m\u001b[0m\u001b[0m\n",
            "\u001b[0;32m<ipython-input-4-b8ef89640cb0>\u001b[0m in \u001b[0;36mcalculate_coords\u001b[0;34m(list_of_old_coorinates)\u001b[0m\n\u001b[1;32m      8\u001b[0m     \u001b[0mrequest_url\u001b[0m \u001b[0;34m=\u001b[0m \u001b[0;34m\"https://epsg.io/trans?s_srs=25833&t_srs=4326&x=\"\u001b[0m\u001b[0;34m+\u001b[0m\u001b[0mstr\u001b[0m\u001b[0;34m(\u001b[0m\u001b[0mold_lat\u001b[0m\u001b[0;34m)\u001b[0m\u001b[0;34m+\u001b[0m\u001b[0;34m\"&y=\"\u001b[0m \u001b[0;34m+\u001b[0m \u001b[0mstr\u001b[0m\u001b[0;34m(\u001b[0m\u001b[0mold_lon\u001b[0m\u001b[0;34m)\u001b[0m\u001b[0;34m\u001b[0m\u001b[0;34m\u001b[0m\u001b[0m\n\u001b[1;32m      9\u001b[0m     \u001b[0mresponse\u001b[0m \u001b[0;34m=\u001b[0m \u001b[0mrequests\u001b[0m\u001b[0;34m.\u001b[0m\u001b[0mget\u001b[0m\u001b[0;34m(\u001b[0m\u001b[0mrequest_url\u001b[0m\u001b[0;34m)\u001b[0m\u001b[0;34m\u001b[0m\u001b[0;34m\u001b[0m\u001b[0m\n\u001b[0;32m---> 10\u001b[0;31m     \u001b[0mtransform_coordinates_response\u001b[0m \u001b[0;34m=\u001b[0m \u001b[0mjson\u001b[0m\u001b[0;34m.\u001b[0m\u001b[0mloads\u001b[0m\u001b[0;34m(\u001b[0m\u001b[0mresponse\u001b[0m\u001b[0;34m.\u001b[0m\u001b[0mtext\u001b[0m\u001b[0;34m)\u001b[0m\u001b[0;34m\u001b[0m\u001b[0;34m\u001b[0m\u001b[0m\n\u001b[0m\u001b[1;32m     11\u001b[0m     \u001b[0mtrans_lon\u001b[0m \u001b[0;34m=\u001b[0m \u001b[0mtransform_coordinates_response\u001b[0m\u001b[0;34m[\u001b[0m\u001b[0;34m'x'\u001b[0m\u001b[0;34m]\u001b[0m\u001b[0;34m\u001b[0m\u001b[0;34m\u001b[0m\u001b[0m\n\u001b[1;32m     12\u001b[0m     \u001b[0mtrans_lat\u001b[0m \u001b[0;34m=\u001b[0m \u001b[0mtransform_coordinates_response\u001b[0m\u001b[0;34m[\u001b[0m\u001b[0;34m'y'\u001b[0m\u001b[0;34m]\u001b[0m\u001b[0;34m\u001b[0m\u001b[0;34m\u001b[0m\u001b[0m\n",
            "\u001b[0;32m/usr/lib/python3.7/json/__init__.py\u001b[0m in \u001b[0;36mloads\u001b[0;34m(s, encoding, cls, object_hook, parse_float, parse_int, parse_constant, object_pairs_hook, **kw)\u001b[0m\n\u001b[1;32m    346\u001b[0m             \u001b[0mparse_int\u001b[0m \u001b[0;32mis\u001b[0m \u001b[0;32mNone\u001b[0m \u001b[0;32mand\u001b[0m \u001b[0mparse_float\u001b[0m \u001b[0;32mis\u001b[0m \u001b[0;32mNone\u001b[0m \u001b[0;32mand\u001b[0m\u001b[0;34m\u001b[0m\u001b[0;34m\u001b[0m\u001b[0m\n\u001b[1;32m    347\u001b[0m             parse_constant is None and object_pairs_hook is None and not kw):\n\u001b[0;32m--> 348\u001b[0;31m         \u001b[0;32mreturn\u001b[0m \u001b[0m_default_decoder\u001b[0m\u001b[0;34m.\u001b[0m\u001b[0mdecode\u001b[0m\u001b[0;34m(\u001b[0m\u001b[0ms\u001b[0m\u001b[0;34m)\u001b[0m\u001b[0;34m\u001b[0m\u001b[0;34m\u001b[0m\u001b[0m\n\u001b[0m\u001b[1;32m    349\u001b[0m     \u001b[0;32mif\u001b[0m \u001b[0mcls\u001b[0m \u001b[0;32mis\u001b[0m \u001b[0;32mNone\u001b[0m\u001b[0;34m:\u001b[0m\u001b[0;34m\u001b[0m\u001b[0;34m\u001b[0m\u001b[0m\n\u001b[1;32m    350\u001b[0m         \u001b[0mcls\u001b[0m \u001b[0;34m=\u001b[0m \u001b[0mJSONDecoder\u001b[0m\u001b[0;34m\u001b[0m\u001b[0;34m\u001b[0m\u001b[0m\n",
            "\u001b[0;32m/usr/lib/python3.7/json/decoder.py\u001b[0m in \u001b[0;36mdecode\u001b[0;34m(self, s, _w)\u001b[0m\n\u001b[1;32m    335\u001b[0m \u001b[0;34m\u001b[0m\u001b[0m\n\u001b[1;32m    336\u001b[0m         \"\"\"\n\u001b[0;32m--> 337\u001b[0;31m         \u001b[0mobj\u001b[0m\u001b[0;34m,\u001b[0m \u001b[0mend\u001b[0m \u001b[0;34m=\u001b[0m \u001b[0mself\u001b[0m\u001b[0;34m.\u001b[0m\u001b[0mraw_decode\u001b[0m\u001b[0;34m(\u001b[0m\u001b[0ms\u001b[0m\u001b[0;34m,\u001b[0m \u001b[0midx\u001b[0m\u001b[0;34m=\u001b[0m\u001b[0m_w\u001b[0m\u001b[0;34m(\u001b[0m\u001b[0ms\u001b[0m\u001b[0;34m,\u001b[0m \u001b[0;36m0\u001b[0m\u001b[0;34m)\u001b[0m\u001b[0;34m.\u001b[0m\u001b[0mend\u001b[0m\u001b[0;34m(\u001b[0m\u001b[0;34m)\u001b[0m\u001b[0;34m)\u001b[0m\u001b[0;34m\u001b[0m\u001b[0;34m\u001b[0m\u001b[0m\n\u001b[0m\u001b[1;32m    338\u001b[0m         \u001b[0mend\u001b[0m \u001b[0;34m=\u001b[0m \u001b[0m_w\u001b[0m\u001b[0;34m(\u001b[0m\u001b[0ms\u001b[0m\u001b[0;34m,\u001b[0m \u001b[0mend\u001b[0m\u001b[0;34m)\u001b[0m\u001b[0;34m.\u001b[0m\u001b[0mend\u001b[0m\u001b[0;34m(\u001b[0m\u001b[0;34m)\u001b[0m\u001b[0;34m\u001b[0m\u001b[0;34m\u001b[0m\u001b[0m\n\u001b[1;32m    339\u001b[0m         \u001b[0;32mif\u001b[0m \u001b[0mend\u001b[0m \u001b[0;34m!=\u001b[0m \u001b[0mlen\u001b[0m\u001b[0;34m(\u001b[0m\u001b[0ms\u001b[0m\u001b[0;34m)\u001b[0m\u001b[0;34m:\u001b[0m\u001b[0;34m\u001b[0m\u001b[0;34m\u001b[0m\u001b[0m\n",
            "\u001b[0;32m/usr/lib/python3.7/json/decoder.py\u001b[0m in \u001b[0;36mraw_decode\u001b[0;34m(self, s, idx)\u001b[0m\n\u001b[1;32m    353\u001b[0m             \u001b[0mobj\u001b[0m\u001b[0;34m,\u001b[0m \u001b[0mend\u001b[0m \u001b[0;34m=\u001b[0m \u001b[0mself\u001b[0m\u001b[0;34m.\u001b[0m\u001b[0mscan_once\u001b[0m\u001b[0;34m(\u001b[0m\u001b[0ms\u001b[0m\u001b[0;34m,\u001b[0m \u001b[0midx\u001b[0m\u001b[0;34m)\u001b[0m\u001b[0;34m\u001b[0m\u001b[0;34m\u001b[0m\u001b[0m\n\u001b[1;32m    354\u001b[0m         \u001b[0;32mexcept\u001b[0m \u001b[0mStopIteration\u001b[0m \u001b[0;32mas\u001b[0m \u001b[0merr\u001b[0m\u001b[0;34m:\u001b[0m\u001b[0;34m\u001b[0m\u001b[0;34m\u001b[0m\u001b[0m\n\u001b[0;32m--> 355\u001b[0;31m             \u001b[0;32mraise\u001b[0m \u001b[0mJSONDecodeError\u001b[0m\u001b[0;34m(\u001b[0m\u001b[0;34m\"Expecting value\"\u001b[0m\u001b[0;34m,\u001b[0m \u001b[0ms\u001b[0m\u001b[0;34m,\u001b[0m \u001b[0merr\u001b[0m\u001b[0;34m.\u001b[0m\u001b[0mvalue\u001b[0m\u001b[0;34m)\u001b[0m \u001b[0;32mfrom\u001b[0m \u001b[0;32mNone\u001b[0m\u001b[0;34m\u001b[0m\u001b[0;34m\u001b[0m\u001b[0m\n\u001b[0m\u001b[1;32m    356\u001b[0m         \u001b[0;32mreturn\u001b[0m \u001b[0mobj\u001b[0m\u001b[0;34m,\u001b[0m \u001b[0mend\u001b[0m\u001b[0;34m\u001b[0m\u001b[0;34m\u001b[0m\u001b[0m\n",
            "\u001b[0;31mJSONDecodeError\u001b[0m: Expecting value: line 1 column 1 (char 0)"
          ]
        }
      ]
    },
    {
      "cell_type": "code",
      "source": [
        "def get_prob_for_node(node_id, index):\n",
        "    # print('index = ' + str(index))\n",
        "    # print('node_id = ' + str(node_id))\n",
        "    f = open(\"probabilities.osm\", \"r\")\n",
        "    flag=-1\n",
        "    for line in f.readlines():\n",
        "        if line.startswith('\\t\\t<nd ref'):\n",
        "            start_index = (line.index('=')) + 2 #the starting of the node_id number\n",
        "            end_index= (line.index('/')) -1            \n",
        "            if (line[start_index:end_index]) == node_id:\n",
        "              flag=0  # it means that the next tag we will see we will go inside\n",
        "        elif flag == 0 and line.startswith('\\t\\t<tag'):\n",
        "          start = line.index('v')\n",
        "          end = len(line) - 4\n",
        "          temp_list = line[start+3:end].split(',')\n",
        "          prob_list = [eval(i) for i in temp_list]\n",
        "          print('prob_list = ' + str(prob_list))\n",
        "          print('prob_list value = ' + str(prob_list[index]))\n",
        "          return prob_list[index]\n",
        "    return 0 #if didn't find- return 0"
      ],
      "metadata": {
        "id": "gAgfiP6UIrZA"
      },
      "execution_count": null,
      "outputs": []
    },
    {
      "cell_type": "code",
      "source": [
        "def most_common_highest_probability():\n",
        "    file = open(\"probabilities.osm\", \"r\")\n",
        "    bucket_list = [0] * 168 # 24 * 7\n",
        "    for line in file.readlines():\n",
        "        if line.startswith('\\t\\t<tag'):\n",
        "            index = line.index('v')\n",
        "            end = len(line) - line[::-1].index('\"') -1\n",
        "            temp_list = line[index+3:end].split(',')\n",
        "            for index in range(len(temp_list)):\n",
        "                if temp_list[index] not in ['', '0']:\n",
        "                    bucket_list[index] += 1\n",
        "    print('bucket_list = ' + str(bucket_list))\n",
        "    return bucket_list.index(max(bucket_list))"
      ],
      "metadata": {
        "id": "Or4t_D2YIxk_"
      },
      "execution_count": null,
      "outputs": []
    },
    {
      "cell_type": "code",
      "source": [
        "def prepare_data_for_model():\n",
        "  data_list=[]\n",
        "  relevant_index= most_common_highest_probability()\n",
        "  for node_id in empty_pk_spots.keys():\n",
        "    num_of_empty= empty_pk_spots[node_id]\n",
        "    if node_id in occupied_pk_spots:\n",
        "      num_of_occupied= occupied_pk_spots[node_id]\n",
        "    else:\n",
        "      num_of_occupied=0\n",
        "    prob_for_empty_parking= get_prob_for_node(node_id, relevant_index)\n",
        "    data_list.append([num_of_empty, num_of_occupied, prob_for_empty_parking])\n",
        "\n",
        "  for node_id in occupied_pk_spots.keys():\n",
        "    if node_id not in empty_pk_spots: # so we didn't go through it yet and the probability is 0\n",
        "      prob_for_empty_parking= get_prob_for_node(node_id, relevant_index)\n",
        "      data_list.append([0, occupied_pk_spots[node_id], prob_for_empty_parking])\n",
        "  \n",
        "  return data_list\n"
      ],
      "metadata": {
        "id": "6R5s1vmQIzFw"
      },
      "execution_count": null,
      "outputs": []
    },
    {
      "cell_type": "code",
      "source": [
        "data = prepare_data_for_model()\n",
        "print(data)"
      ],
      "metadata": {
        "id": "13fq8JVWI2rn"
      },
      "execution_count": null,
      "outputs": []
    }
  ]
}