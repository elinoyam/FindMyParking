{
  "nbformat": 4,
  "nbformat_minor": 0,
  "metadata": {
    "colab": {
      "name": "CalculateProbabilitiesFromGeojson.ipynb",
      "provenance": [],
      "collapsed_sections": [],
      "authorship_tag": "ABX9TyNdYQqmtseoy5lcVwMgS6j5",
      "include_colab_link": true
    },
    "kernelspec": {
      "name": "python3",
      "display_name": "Python 3"
    },
    "language_info": {
      "name": "python"
    },
    "gpuClass": "standard"
  },
  "cells": [
    {
      "cell_type": "markdown",
      "metadata": {
        "id": "view-in-github",
        "colab_type": "text"
      },
      "source": [
        "<a href=\"https://colab.research.google.com/github/elinoyam/FindMyParking/blob/WorkingWithColab/CalculateProbabilitiesFromGeojson.ipynb\" target=\"_parent\"><img src=\"https://colab.research.google.com/assets/colab-badge.svg\" alt=\"Open In Colab\"/></a>"
      ]
    },
    {
      "cell_type": "code",
      "source": [
        "import json\n",
        "import requests\n",
        "import numpy as np"
      ],
      "metadata": {
        "id": "P_t5gVseTqH9"
      },
      "execution_count": null,
      "outputs": []
    },
    {
      "cell_type": "code",
      "execution_count": null,
      "metadata": {
        "id": "NFaCas82PTUv"
      },
      "outputs": [],
      "source": [
        "def find_osm_node_id(coordinate):\n",
        "  lat = coordinate[0]\n",
        "  lon = coordinate[1]\n",
        "  # get the way id - request json format of the reverse method of OSM librery nominatim\n",
        "  request_url = \"https://nominatim.openstreetmap.org/reverse?format=geojson&osm_type=N&lat=\" + f'{lat:f}' + \"&lon=\" + f'{lon:f}'\n",
        "  #print(request_url)\n",
        "  response = requests.get(request_url)\n",
        "  way_id_response = json.loads(response.text)\n",
        "  #print(way_id_response)\n",
        "  osm_type = way_id_response['features'][0]['properties']['osm_type']\n",
        "  node_id = way_id_response['features'][0]['properties']['osm_id'] \n",
        "  if osm_type != \"node\":\n",
        "    print(\"not node:\")\n",
        "    print(node_id)\n",
        "\n",
        "  return node_id"
      ]
    },
    {
      "cell_type": "code",
      "source": [
        "def calculate_coords(list_of_old_coorinates):\n",
        "  transformed_coordinates = []\n",
        "  for old_cord in list_of_old_coorinates:\n",
        "    old_lat = old_cord[0]\n",
        "    old_lon = old_cord[1]\n",
        "    # get the latitude and longitude in the right coordinates \n",
        "    # from the original format EPSG:25833 to format: EPSG:4326\n",
        "    request_url = \"https://epsg.io/trans?s_srs=25833&t_srs=4326&x=\"+str(old_lat)+\"&y=\" + str(old_lon)\n",
        "    response = requests.get(request_url)\n",
        "    transform_coordinates_response = json.loads(response.text)\n",
        "    trans_lon = transform_coordinates_response['x']\n",
        "    trans_lat = transform_coordinates_response['y']\n",
        "    transformed_coordinates.append([float(trans_lat), float(trans_lon)])\n",
        "  \n",
        "  return transformed_coordinates\n"
      ],
      "metadata": {
        "id": "XRziUtk2UD9e"
      },
      "execution_count": null,
      "outputs": []
    },
    {
      "cell_type": "code",
      "source": [
        "def transform_line(line):\n",
        "  old_coords = line['geometry']['coordinates'][0][0]\n",
        "  transformed_coords = calculate_coords(old_coords)\n",
        "  osm_id = find_osm_node_id(transformed_coords[0])\n",
        "  # calculate parking area\n",
        "  all_lats = [x for x,y in transformed_coords]\n",
        "  all_lons = [y for x,y in transformed_coords]\n",
        "  parking_area = polygon_area(all_lats, all_lons) # we multiply by 1000 to convet to m2 instead of km2\n",
        "  # calculate number of parking spots in the parking area\n",
        "  single_parking_area = 4.88 * 2.44\n",
        "  number_of_parking = parking_area / single_parking_area\n",
        "  print(number_of_parking)\n",
        "  # get the label (parking empty/occupied)\n",
        "  line_label = line['label_x']\n",
        "\n",
        "  return osm_id, line_label, number_of_parking"
      ],
      "metadata": {
        "id": "iP8edSm8Xl_8"
      },
      "execution_count": null,
      "outputs": []
    },
    {
      "cell_type": "code",
      "source": [
        "file_path = \"parking.geojson\"\n",
        "# count the parking spots members:\n",
        "empty_pk_spots = {}\n",
        "occupied_pk_spots = {}\n",
        "\n",
        "# open the file using geojson (less updated)\n",
        "with open(file_path) as f:\n",
        "    data_file = geojson.load(f)\n",
        "    features_array = data_file['features']\n",
        "\n",
        "    for feature in features_array:\n",
        "      node_id, label, amount = transform_line(feature)\n",
        "      if label == 'PK-space-occupied':\n",
        "        occupied_count = occupied_pk_spots.setdefault(way_id, 0)\n",
        "        occupied_pk_spots[way_id] = occupied_count + 1\n",
        "      elif label == 'PK-space-empty':\n",
        "        empty_count = empty_pk_spots.setdefault(way_id, 0)\n",
        "        empty_pk_spots[way_id] = empty_count + 1 \n"
      ],
      "metadata": {
        "id": "4F3N5NiDpChZ"
      },
      "execution_count": null,
      "outputs": []
    },
    {
      "cell_type": "code",
      "source": [
        "line = '{ \"type\": \"Feature\", \"properties\": { \"id\": 1, \"label_x\": \"PK-space-occupied\", \"True_or_False\": null, \"label_y\": null, \"nearest_geometry_dis\": null, \"parking_area_m2\": null, \"layer\": \"Annotaions Predictions\", \"path\": \"F:/Berlin-DOP_2020/Predictions/Previously created maps/Annotations/Annotaions.geojson\" }, \"geometry\": { \"type\": \"MultiPolygon\", \"coordinates\": [ [ [ [ 391008.0878, 5821088.3568 ], [ 391002.407, 5821095.493 ], [ 391004.3319, 5821096.9484 ], [ 391009.8718, 5821089.4366 ], [ 391008.1817, 5821088.2629 ], [ 391008.0878, 5821088.3568 ] ] ] ] } }'\n",
        "#line = line.replace(\"null\", \"None\")\n",
        "json_line = json.loads(line)\n",
        "transform_line(json_line)"
      ],
      "metadata": {
        "colab": {
          "base_uri": "https://localhost:8080/"
        },
        "id": "vqpuinsZGsxg",
        "outputId": "fb999db0-4348-4d3b-f8df-0d9d2682383f"
      },
      "execution_count": null,
      "outputs": [
        {
          "output_type": "stream",
          "name": "stdout",
          "text": [
            "1.7470470147182449\n"
          ]
        }
      ]
    },
    {
      "cell_type": "code",
      "source": [
        "osm_id = find_osm_node_id([52.54203249, 13.41329482])\n",
        "print(osm_id)"
      ],
      "metadata": {
        "colab": {
          "base_uri": "https://localhost:8080/"
        },
        "id": "GTs6Li0p-XdX",
        "outputId": "ed6c819e-b45d-461e-d844-2de04b5c198a"
      },
      "execution_count": null,
      "outputs": [
        {
          "output_type": "stream",
          "name": "stdout",
          "text": [
            "692194370\n"
          ]
        }
      ]
    },
    {
      "cell_type": "code",
      "source": [
        "input_coord = [ [ 392395.9, 5822510.25 ], [ 392396.65, 5822510.8 ], [ 392398.25, 5822513.5 ], [ 392398.15, 5822513.8 ], [ 392397.6, 5822514.35 ], [ 392397.1, 5822514.65 ], [ 392396.6, 5822514.55 ], [ 392396.25, 5822514.2 ], [ 392395.15, 5822512.6 ], [ 392394.95, 5822512.1 ], [ 392394.95, 5822511.6 ], [ 392395.35, 5822510.7 ], [ 392395.9, 5822510.25 ]]\n",
        "\n",
        "output_coord = calculate_coords(input_coord)\n",
        "\n",
        "print(output_coord)\n",
        "\n",
        "for cord in output_coord:\n",
        "  found_id = find_osm_node_id(cord)\n",
        "  print(found_id)"
      ],
      "metadata": {
        "colab": {
          "base_uri": "https://localhost:8080/"
        },
        "id": "bLIb4hRMgvKE",
        "outputId": "02e9ba24-61e6-4c0e-cd6e-1cb2b616193c"
      },
      "execution_count": null,
      "outputs": [
        {
          "output_type": "stream",
          "name": "stdout",
          "text": [
            "[[52.54203249, 13.41329482], [52.54203758, 13.41330569], [52.54206216, 13.4133284], [52.54206483, 13.41332683], [52.54206967, 13.41331855], [52.54207226, 13.41331108], [52.54207127, 13.41330374], [52.54206805, 13.4132987], [52.54205346, 13.413283], [52.54204892, 13.41328021], [52.54204443, 13.41328038], [52.54203642, 13.41328656], [52.54203249, 13.41329482]]\n",
            "https://nominatim.openstreetmap.org/reverse?format=geojson&osm_type=N&lat=52.542032&lon=13.413295\n",
            "{'type': 'FeatureCollection', 'licence': 'Data © OpenStreetMap contributors, ODbL 1.0. https://osm.org/copyright', 'features': [{'type': 'Feature', 'properties': {'place_id': 5741901, 'osm_type': 'node', 'osm_id': 692194370, 'place_rank': 30, 'category': 'place', 'type': 'house', 'importance': 0, 'addresstype': 'place', 'name': None, 'display_name': '86, Pappelallee, Helmholtzkiez, Prenzlauer Berg, Pankow, Berlin, 10437, Deutschland', 'address': {'house_number': '86', 'road': 'Pappelallee', 'neighbourhood': 'Helmholtzkiez', 'suburb': 'Prenzlauer Berg', 'borough': 'Pankow', 'city': 'Berlin', 'ISO3166-2-lvl4': 'DE-BE', 'postcode': '10437', 'country': 'Deutschland', 'country_code': 'de'}}, 'bbox': [13.4132265, 52.5420897, 13.4133265, 52.5421897], 'geometry': {'type': 'Point', 'coordinates': [13.4132765, 52.5421397]}}]}\n",
            "692194370\n",
            "https://nominatim.openstreetmap.org/reverse?format=geojson&osm_type=N&lat=52.542038&lon=13.413306\n",
            "{'type': 'FeatureCollection', 'licence': 'Data © OpenStreetMap contributors, ODbL 1.0. https://osm.org/copyright', 'features': [{'type': 'Feature', 'properties': {'place_id': 5741901, 'osm_type': 'node', 'osm_id': 692194370, 'place_rank': 30, 'category': 'place', 'type': 'house', 'importance': 0, 'addresstype': 'place', 'name': None, 'display_name': '86, Pappelallee, Helmholtzkiez, Prenzlauer Berg, Pankow, Berlin, 10437, Deutschland', 'address': {'house_number': '86', 'road': 'Pappelallee', 'neighbourhood': 'Helmholtzkiez', 'suburb': 'Prenzlauer Berg', 'borough': 'Pankow', 'city': 'Berlin', 'ISO3166-2-lvl4': 'DE-BE', 'postcode': '10437', 'country': 'Deutschland', 'country_code': 'de'}}, 'bbox': [13.4132265, 52.5420897, 13.4133265, 52.5421897], 'geometry': {'type': 'Point', 'coordinates': [13.4132765, 52.5421397]}}]}\n",
            "692194370\n",
            "https://nominatim.openstreetmap.org/reverse?format=geojson&osm_type=N&lat=52.542062&lon=13.413328\n",
            "{'type': 'FeatureCollection', 'licence': 'Data © OpenStreetMap contributors, ODbL 1.0. https://osm.org/copyright', 'features': [{'type': 'Feature', 'properties': {'place_id': 5741901, 'osm_type': 'node', 'osm_id': 692194370, 'place_rank': 30, 'category': 'place', 'type': 'house', 'importance': 0, 'addresstype': 'place', 'name': None, 'display_name': '86, Pappelallee, Helmholtzkiez, Prenzlauer Berg, Pankow, Berlin, 10437, Deutschland', 'address': {'house_number': '86', 'road': 'Pappelallee', 'neighbourhood': 'Helmholtzkiez', 'suburb': 'Prenzlauer Berg', 'borough': 'Pankow', 'city': 'Berlin', 'ISO3166-2-lvl4': 'DE-BE', 'postcode': '10437', 'country': 'Deutschland', 'country_code': 'de'}}, 'bbox': [13.4132265, 52.5420897, 13.4133265, 52.5421897], 'geometry': {'type': 'Point', 'coordinates': [13.4132765, 52.5421397]}}]}\n",
            "692194370\n",
            "https://nominatim.openstreetmap.org/reverse?format=geojson&osm_type=N&lat=52.542065&lon=13.413327\n",
            "{'type': 'FeatureCollection', 'licence': 'Data © OpenStreetMap contributors, ODbL 1.0. https://osm.org/copyright', 'features': [{'type': 'Feature', 'properties': {'place_id': 5741901, 'osm_type': 'node', 'osm_id': 692194370, 'place_rank': 30, 'category': 'place', 'type': 'house', 'importance': 0, 'addresstype': 'place', 'name': None, 'display_name': '86, Pappelallee, Helmholtzkiez, Prenzlauer Berg, Pankow, Berlin, 10437, Deutschland', 'address': {'house_number': '86', 'road': 'Pappelallee', 'neighbourhood': 'Helmholtzkiez', 'suburb': 'Prenzlauer Berg', 'borough': 'Pankow', 'city': 'Berlin', 'ISO3166-2-lvl4': 'DE-BE', 'postcode': '10437', 'country': 'Deutschland', 'country_code': 'de'}}, 'bbox': [13.4132265, 52.5420897, 13.4133265, 52.5421897], 'geometry': {'type': 'Point', 'coordinates': [13.4132765, 52.5421397]}}]}\n",
            "692194370\n",
            "https://nominatim.openstreetmap.org/reverse?format=geojson&osm_type=N&lat=52.542070&lon=13.413319\n",
            "{'type': 'FeatureCollection', 'licence': 'Data © OpenStreetMap contributors, ODbL 1.0. https://osm.org/copyright', 'features': [{'type': 'Feature', 'properties': {'place_id': 5741901, 'osm_type': 'node', 'osm_id': 692194370, 'place_rank': 30, 'category': 'place', 'type': 'house', 'importance': 0, 'addresstype': 'place', 'name': None, 'display_name': '86, Pappelallee, Helmholtzkiez, Prenzlauer Berg, Pankow, Berlin, 10437, Deutschland', 'address': {'house_number': '86', 'road': 'Pappelallee', 'neighbourhood': 'Helmholtzkiez', 'suburb': 'Prenzlauer Berg', 'borough': 'Pankow', 'city': 'Berlin', 'ISO3166-2-lvl4': 'DE-BE', 'postcode': '10437', 'country': 'Deutschland', 'country_code': 'de'}}, 'bbox': [13.4132265, 52.5420897, 13.4133265, 52.5421897], 'geometry': {'type': 'Point', 'coordinates': [13.4132765, 52.5421397]}}]}\n",
            "692194370\n",
            "https://nominatim.openstreetmap.org/reverse?format=geojson&osm_type=N&lat=52.542072&lon=13.413311\n",
            "{'type': 'FeatureCollection', 'licence': 'Data © OpenStreetMap contributors, ODbL 1.0. https://osm.org/copyright', 'features': [{'type': 'Feature', 'properties': {'place_id': 5741901, 'osm_type': 'node', 'osm_id': 692194370, 'place_rank': 30, 'category': 'place', 'type': 'house', 'importance': 0, 'addresstype': 'place', 'name': None, 'display_name': '86, Pappelallee, Helmholtzkiez, Prenzlauer Berg, Pankow, Berlin, 10437, Deutschland', 'address': {'house_number': '86', 'road': 'Pappelallee', 'neighbourhood': 'Helmholtzkiez', 'suburb': 'Prenzlauer Berg', 'borough': 'Pankow', 'city': 'Berlin', 'ISO3166-2-lvl4': 'DE-BE', 'postcode': '10437', 'country': 'Deutschland', 'country_code': 'de'}}, 'bbox': [13.4132265, 52.5420897, 13.4133265, 52.5421897], 'geometry': {'type': 'Point', 'coordinates': [13.4132765, 52.5421397]}}]}\n",
            "692194370\n",
            "https://nominatim.openstreetmap.org/reverse?format=geojson&osm_type=N&lat=52.542071&lon=13.413304\n",
            "{'type': 'FeatureCollection', 'licence': 'Data © OpenStreetMap contributors, ODbL 1.0. https://osm.org/copyright', 'features': [{'type': 'Feature', 'properties': {'place_id': 5741901, 'osm_type': 'node', 'osm_id': 692194370, 'place_rank': 30, 'category': 'place', 'type': 'house', 'importance': 0, 'addresstype': 'place', 'name': None, 'display_name': '86, Pappelallee, Helmholtzkiez, Prenzlauer Berg, Pankow, Berlin, 10437, Deutschland', 'address': {'house_number': '86', 'road': 'Pappelallee', 'neighbourhood': 'Helmholtzkiez', 'suburb': 'Prenzlauer Berg', 'borough': 'Pankow', 'city': 'Berlin', 'ISO3166-2-lvl4': 'DE-BE', 'postcode': '10437', 'country': 'Deutschland', 'country_code': 'de'}}, 'bbox': [13.4132265, 52.5420897, 13.4133265, 52.5421897], 'geometry': {'type': 'Point', 'coordinates': [13.4132765, 52.5421397]}}]}\n",
            "692194370\n",
            "https://nominatim.openstreetmap.org/reverse?format=geojson&osm_type=N&lat=52.542068&lon=13.413299\n",
            "{'type': 'FeatureCollection', 'licence': 'Data © OpenStreetMap contributors, ODbL 1.0. https://osm.org/copyright', 'features': [{'type': 'Feature', 'properties': {'place_id': 5741901, 'osm_type': 'node', 'osm_id': 692194370, 'place_rank': 30, 'category': 'place', 'type': 'house', 'importance': 0, 'addresstype': 'place', 'name': None, 'display_name': '86, Pappelallee, Helmholtzkiez, Prenzlauer Berg, Pankow, Berlin, 10437, Deutschland', 'address': {'house_number': '86', 'road': 'Pappelallee', 'neighbourhood': 'Helmholtzkiez', 'suburb': 'Prenzlauer Berg', 'borough': 'Pankow', 'city': 'Berlin', 'ISO3166-2-lvl4': 'DE-BE', 'postcode': '10437', 'country': 'Deutschland', 'country_code': 'de'}}, 'bbox': [13.4132265, 52.5420897, 13.4133265, 52.5421897], 'geometry': {'type': 'Point', 'coordinates': [13.4132765, 52.5421397]}}]}\n",
            "692194370\n",
            "https://nominatim.openstreetmap.org/reverse?format=geojson&osm_type=N&lat=52.542053&lon=13.413283\n",
            "{'type': 'FeatureCollection', 'licence': 'Data © OpenStreetMap contributors, ODbL 1.0. https://osm.org/copyright', 'features': [{'type': 'Feature', 'properties': {'place_id': 5741901, 'osm_type': 'node', 'osm_id': 692194370, 'place_rank': 30, 'category': 'place', 'type': 'house', 'importance': 0, 'addresstype': 'place', 'name': None, 'display_name': '86, Pappelallee, Helmholtzkiez, Prenzlauer Berg, Pankow, Berlin, 10437, Deutschland', 'address': {'house_number': '86', 'road': 'Pappelallee', 'neighbourhood': 'Helmholtzkiez', 'suburb': 'Prenzlauer Berg', 'borough': 'Pankow', 'city': 'Berlin', 'ISO3166-2-lvl4': 'DE-BE', 'postcode': '10437', 'country': 'Deutschland', 'country_code': 'de'}}, 'bbox': [13.4132265, 52.5420897, 13.4133265, 52.5421897], 'geometry': {'type': 'Point', 'coordinates': [13.4132765, 52.5421397]}}]}\n",
            "692194370\n",
            "https://nominatim.openstreetmap.org/reverse?format=geojson&osm_type=N&lat=52.542049&lon=13.413280\n",
            "{'type': 'FeatureCollection', 'licence': 'Data © OpenStreetMap contributors, ODbL 1.0. https://osm.org/copyright', 'features': [{'type': 'Feature', 'properties': {'place_id': 5741901, 'osm_type': 'node', 'osm_id': 692194370, 'place_rank': 30, 'category': 'place', 'type': 'house', 'importance': 0, 'addresstype': 'place', 'name': None, 'display_name': '86, Pappelallee, Helmholtzkiez, Prenzlauer Berg, Pankow, Berlin, 10437, Deutschland', 'address': {'house_number': '86', 'road': 'Pappelallee', 'neighbourhood': 'Helmholtzkiez', 'suburb': 'Prenzlauer Berg', 'borough': 'Pankow', 'city': 'Berlin', 'ISO3166-2-lvl4': 'DE-BE', 'postcode': '10437', 'country': 'Deutschland', 'country_code': 'de'}}, 'bbox': [13.4132265, 52.5420897, 13.4133265, 52.5421897], 'geometry': {'type': 'Point', 'coordinates': [13.4132765, 52.5421397]}}]}\n",
            "692194370\n",
            "https://nominatim.openstreetmap.org/reverse?format=geojson&osm_type=N&lat=52.542044&lon=13.413280\n",
            "{'type': 'FeatureCollection', 'licence': 'Data © OpenStreetMap contributors, ODbL 1.0. https://osm.org/copyright', 'features': [{'type': 'Feature', 'properties': {'place_id': 5741901, 'osm_type': 'node', 'osm_id': 692194370, 'place_rank': 30, 'category': 'place', 'type': 'house', 'importance': 0, 'addresstype': 'place', 'name': None, 'display_name': '86, Pappelallee, Helmholtzkiez, Prenzlauer Berg, Pankow, Berlin, 10437, Deutschland', 'address': {'house_number': '86', 'road': 'Pappelallee', 'neighbourhood': 'Helmholtzkiez', 'suburb': 'Prenzlauer Berg', 'borough': 'Pankow', 'city': 'Berlin', 'ISO3166-2-lvl4': 'DE-BE', 'postcode': '10437', 'country': 'Deutschland', 'country_code': 'de'}}, 'bbox': [13.4132265, 52.5420897, 13.4133265, 52.5421897], 'geometry': {'type': 'Point', 'coordinates': [13.4132765, 52.5421397]}}]}\n",
            "692194370\n",
            "https://nominatim.openstreetmap.org/reverse?format=geojson&osm_type=N&lat=52.542036&lon=13.413287\n",
            "{'type': 'FeatureCollection', 'licence': 'Data © OpenStreetMap contributors, ODbL 1.0. https://osm.org/copyright', 'features': [{'type': 'Feature', 'properties': {'place_id': 5741901, 'osm_type': 'node', 'osm_id': 692194370, 'place_rank': 30, 'category': 'place', 'type': 'house', 'importance': 0, 'addresstype': 'place', 'name': None, 'display_name': '86, Pappelallee, Helmholtzkiez, Prenzlauer Berg, Pankow, Berlin, 10437, Deutschland', 'address': {'house_number': '86', 'road': 'Pappelallee', 'neighbourhood': 'Helmholtzkiez', 'suburb': 'Prenzlauer Berg', 'borough': 'Pankow', 'city': 'Berlin', 'ISO3166-2-lvl4': 'DE-BE', 'postcode': '10437', 'country': 'Deutschland', 'country_code': 'de'}}, 'bbox': [13.4132265, 52.5420897, 13.4133265, 52.5421897], 'geometry': {'type': 'Point', 'coordinates': [13.4132765, 52.5421397]}}]}\n",
            "692194370\n",
            "https://nominatim.openstreetmap.org/reverse?format=geojson&osm_type=N&lat=52.542032&lon=13.413295\n",
            "{'type': 'FeatureCollection', 'licence': 'Data © OpenStreetMap contributors, ODbL 1.0. https://osm.org/copyright', 'features': [{'type': 'Feature', 'properties': {'place_id': 5741901, 'osm_type': 'node', 'osm_id': 692194370, 'place_rank': 30, 'category': 'place', 'type': 'house', 'importance': 0, 'addresstype': 'place', 'name': None, 'display_name': '86, Pappelallee, Helmholtzkiez, Prenzlauer Berg, Pankow, Berlin, 10437, Deutschland', 'address': {'house_number': '86', 'road': 'Pappelallee', 'neighbourhood': 'Helmholtzkiez', 'suburb': 'Prenzlauer Berg', 'borough': 'Pankow', 'city': 'Berlin', 'ISO3166-2-lvl4': 'DE-BE', 'postcode': '10437', 'country': 'Deutschland', 'country_code': 'de'}}, 'bbox': [13.4132265, 52.5420897, 13.4133265, 52.5421897], 'geometry': {'type': 'Point', 'coordinates': [13.4132765, 52.5421397]}}]}\n",
            "692194370\n"
          ]
        }
      ]
    },
    {
      "cell_type": "code",
      "source": [
        "# first way to calculate area on the earth surface\n",
        "\n",
        "!pip install area\n",
        "from area import area\n",
        "poly_obj = {'type':'Polygon','coordinates':[[[52.54203249, 13.41329482], [52.54203758, 13.41330569], [52.54206216, 13.4133284], [52.54206483, 13.41332683], [52.54206967, 13.41331855], [52.54207226, 13.41331108], [52.54207127, 13.41330374], [52.54206805, 13.4132987], [52.54205346, 13.413283], [52.54204892, 13.41328021], [52.54204443, 13.41328038], [52.54203642, 13.41328656], [52.54203249, 13.41329482]]]}\n",
        "area(poly_obj)"
      ],
      "metadata": {
        "id": "NL3ofPzG9MAu"
      },
      "execution_count": null,
      "outputs": []
    },
    {
      "cell_type": "code",
      "source": [
        "# second (and more precise) way for calculating the area on earth surface\n",
        "\n",
        "def polygon_area(lats, lons, radius = 6378137):\n",
        "    \"\"\"\n",
        "    Computes area of spherical polygon, assuming spherical Earth. \n",
        "    Returns result in ratio of the sphere's area if the radius is specified.\n",
        "    Otherwise, in the units of provided radius.\n",
        "    lats and lons are in degrees.\n",
        "    \"\"\"\n",
        "    from numpy import arctan2, cos, sin, sqrt, pi, power, append, diff, deg2rad\n",
        "    lats = np.deg2rad(lats)\n",
        "    lons = np.deg2rad(lons)\n",
        "\n",
        "    # Line integral based on Green's Theorem, assumes spherical Earth\n",
        "\n",
        "    #close polygon\n",
        "    if lats[0]!=lats[-1]:\n",
        "        lats = append(lats, lats[0])\n",
        "        lons = append(lons, lons[0])\n",
        "\n",
        "    #colatitudes relative to (0,0)\n",
        "    a = sin(lats/2)**2 + cos(lats)* sin(lons/2)**2\n",
        "    colat = 2*arctan2( sqrt(a), sqrt(1-a) )\n",
        "\n",
        "    #azimuths relative to (0,0)\n",
        "    az = arctan2(cos(lats) * sin(lons), sin(lats)) % (2*pi)\n",
        "\n",
        "    # Calculate diffs\n",
        "    # daz = diff(az) % (2*pi)\n",
        "    daz = diff(az)\n",
        "    daz = (daz + pi) % (2 * pi) - pi\n",
        "\n",
        "    deltas=diff(colat)/2\n",
        "    colat=colat[0:-1]+deltas\n",
        "\n",
        "    # Perform integral\n",
        "    integrands = (1-cos(colat)) * daz\n",
        "\n",
        "    # Integrate \n",
        "    area = abs(sum(integrands))/(4*pi)\n",
        "\n",
        "    area = min(area,1-area)\n",
        "    if radius is not None: #return in units of radius\n",
        "        return area * 4*pi*radius**2\n",
        "    else: #return in ratio of sphere total area\n",
        "        return area"
      ],
      "metadata": {
        "id": "768U9_dp9JtF"
      },
      "execution_count": null,
      "outputs": []
    }
  ]
}