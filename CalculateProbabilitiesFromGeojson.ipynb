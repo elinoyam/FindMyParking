{
  "nbformat": 4,
  "nbformat_minor": 0,
  "metadata": {
    "colab": {
      "name": "Untitled2.ipynb",
      "provenance": [],
      "authorship_tag": "ABX9TyOq7qRx3Wo/fitGfuAwT+0I",
      "include_colab_link": true
    },
    "kernelspec": {
      "name": "python3",
      "display_name": "Python 3"
    },
    "language_info": {
      "name": "python"
    },
    "gpuClass": "standard"
  },
  "cells": [
    {
      "cell_type": "markdown",
      "metadata": {
        "id": "view-in-github",
        "colab_type": "text"
      },
      "source": [
        "<a href=\"https://colab.research.google.com/github/elinoyam/FindMyParking/blob/WorkingWithColab/CalculateProbabilitiesFromGeojson.ipynb\" target=\"_parent\"><img src=\"https://colab.research.google.com/assets/colab-badge.svg\" alt=\"Open In Colab\"/></a>"
      ]
    },
    {
      "cell_type": "code",
      "source": [
        "import json\n",
        "import requests"
      ],
      "metadata": {
        "id": "P_t5gVseTqH9"
      },
      "execution_count": null,
      "outputs": []
    },
    {
      "cell_type": "code",
      "execution_count": null,
      "metadata": {
        "id": "NFaCas82PTUv"
      },
      "outputs": [],
      "source": [
        "def find_osm_way_id(coordinate):\n",
        "  lon = coordinate[0]\n",
        "  lat = coordinate[1]\n",
        "  # get the way id - request json format of the reverse method of OSM librery nominatim\n",
        "  request_url = \"https://nominatim.openstreetmap.org/reverse?format=jsonv2&lat=\" + f'{lat:.4f}' + \"&lon=\" + f'{lon:.4f}'\n",
        "  response = requests.get(request_url)\n",
        "  way_id_response = json.loads(response.text)\n",
        "  way_id = way_id_response ['osm_id'] \n",
        "  return way_id"
      ]
    },
    {
      "cell_type": "code",
      "source": [
        "def calculate_cords(list_of_old_coorinates):\n",
        "  transformed_coordinates = []\n",
        "  for old_cord in list_of_old_coorinates:\n",
        "    old_lat = old_cord[0]\n",
        "    old_lon = old_cord[1]\n",
        "    # get the latitude and longitude in the right coordinates \n",
        "    # from the original format EPSG:25833 to format: EPSG:4326\n",
        "    request_url = \"https://epsg.io/trans?s_srs=25833&t_srs=4326&x=\"+old_lat+\"&y=\" + old_lon\n",
        "    response = requests.get(request_url)\n",
        "    transform_coordinates_response = json.loads(response.text)\n",
        "    trans_lon = transform_coordinates_response['x']\n",
        "    trans_lat = transform_coordinates_response['y']\n",
        "    transformed_coordinates.append([trans_lon, trans_lat])\n"
      ],
      "metadata": {
        "id": "XRziUtk2UD9e"
      },
      "execution_count": null,
      "outputs": []
    },
    {
      "cell_type": "code",
      "source": [
        "def transform_line(line):\n",
        "  old_coords = line['coordinates'][0][0]\n",
        "  transformed_coords = calculate_cords(old_coords)\n",
        "  osm_id = find_osm_way_id(transformed_coords[0])\n",
        "  # calculate parking area\n",
        "  # calculate number of parking spots in the parking area\n",
        "  # get the label (parking empty/occupied)\n",
        "  "
      ],
      "metadata": {
        "id": "iP8edSm8Xl_8"
      },
      "execution_count": null,
      "outputs": []
    }
  ]
}