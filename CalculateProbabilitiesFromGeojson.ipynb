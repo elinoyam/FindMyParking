{
  "nbformat": 4,
  "nbformat_minor": 0,
  "metadata": {
    "colab": {
      "name": "CalculateProbabilitiesFromGeojson.ipynb",
      "provenance": [],
      "collapsed_sections": [],
      "authorship_tag": "ABX9TyMnEjjQMj22xN8qwNrap5v/",
      "include_colab_link": true
    },
    "kernelspec": {
      "name": "python3",
      "display_name": "Python 3"
    },
    "language_info": {
      "name": "python"
    },
    "gpuClass": "standard",
    "accelerator": "GPU"
  },
  "cells": [
    {
      "cell_type": "markdown",
      "metadata": {
        "id": "view-in-github",
        "colab_type": "text"
      },
      "source": [
        "<a href=\"https://colab.research.google.com/github/elinoyam/FindMyParking/blob/WorkingWithColab/CalculateProbabilitiesFromGeojson.ipynb\" target=\"_parent\"><img src=\"https://colab.research.google.com/assets/colab-badge.svg\" alt=\"Open In Colab\"/></a>"
      ]
    },
    {
      "cell_type": "code",
      "source": [
        "import json\n",
        "import requests\n",
        "import numpy as np\n",
        "!pip install geojson\n",
        "import geojson"
      ],
      "metadata": {
        "id": "P_t5gVseTqH9",
        "outputId": "d708c45d-f976-48cb-ef96-8decb911ac32",
        "colab": {
          "base_uri": "https://localhost:8080/"
        }
      },
      "execution_count": 1,
      "outputs": [
        {
          "output_type": "stream",
          "name": "stdout",
          "text": [
            "Looking in indexes: https://pypi.org/simple, https://us-python.pkg.dev/colab-wheels/public/simple/\n",
            "Collecting geojson\n",
            "  Downloading geojson-2.5.0-py2.py3-none-any.whl (14 kB)\n",
            "Installing collected packages: geojson\n",
            "Successfully installed geojson-2.5.0\n"
          ]
        }
      ]
    },
    {
      "cell_type": "code",
      "source": [
        "from google.colab import drive\n",
        "drive.mount('/content/drive') \n",
        "#change this\n",
        "%cd /content/drive/MyDrive/Colab Notebooks/Find My Parking/"
      ],
      "metadata": {
        "id": "Q9VeM2XCWCos",
        "outputId": "08e3f32c-8040-48d3-edf7-a54bf77e15f1",
        "colab": {
          "base_uri": "https://localhost:8080/"
        }
      },
      "execution_count": 2,
      "outputs": [
        {
          "output_type": "stream",
          "name": "stdout",
          "text": [
            "Mounted at /content/drive\n",
            "/content/drive/MyDrive/Colab Notebooks/Find My Parking\n"
          ]
        }
      ]
    },
    {
      "cell_type": "code",
      "source": [
        "!pip install sqlalchemy-utils\n",
        "from sqlalchemy_utils import  database_exists, create_database\n",
        "from sqlalchemy import create_engine, MetaData, Table, Column, Integer, Float, insert, delete, update, text\n",
        "my_conn=create_engine(\"sqlite:////content/drive/MyDrive/Colab Notebooks/Find My Parking/Database/my_db.db\")"
      ],
      "metadata": {
        "id": "zxENkRxuWgPu",
        "outputId": "62513da4-c4f9-46c7-9ce4-31ef21c9ebf3",
        "colab": {
          "base_uri": "https://localhost:8080/"
        }
      },
      "execution_count": 3,
      "outputs": [
        {
          "output_type": "stream",
          "name": "stdout",
          "text": [
            "Looking in indexes: https://pypi.org/simple, https://us-python.pkg.dev/colab-wheels/public/simple/\n",
            "Collecting sqlalchemy-utils\n",
            "  Downloading SQLAlchemy_Utils-0.38.3-py3-none-any.whl (100 kB)\n",
            "\u001b[K     |████████████████████████████████| 100 kB 4.2 MB/s \n",
            "\u001b[?25hRequirement already satisfied: SQLAlchemy>=1.3 in /usr/local/lib/python3.7/dist-packages (from sqlalchemy-utils) (1.4.40)\n",
            "Requirement already satisfied: importlib-metadata in /usr/local/lib/python3.7/dist-packages (from sqlalchemy-utils) (4.12.0)\n",
            "Requirement already satisfied: greenlet!=0.4.17 in /usr/local/lib/python3.7/dist-packages (from SQLAlchemy>=1.3->sqlalchemy-utils) (1.1.3)\n",
            "Requirement already satisfied: zipp>=0.5 in /usr/local/lib/python3.7/dist-packages (from importlib-metadata->sqlalchemy-utils) (3.8.1)\n",
            "Requirement already satisfied: typing-extensions>=3.6.4 in /usr/local/lib/python3.7/dist-packages (from importlib-metadata->sqlalchemy-utils) (4.1.1)\n",
            "Installing collected packages: sqlalchemy-utils\n",
            "Successfully installed sqlalchemy-utils-0.38.3\n"
          ]
        }
      ]
    },
    {
      "cell_type": "code",
      "source": [
        "if not database_exists(my_conn.url):\n",
        "  create_database(my_conn.url)\n",
        "meta = MetaData()\n",
        "parking_data_table = Table(\n",
        "'parking_data', meta, \n",
        "Column('node_id', Integer, primary_key = True), \n",
        "Column('free_count', Integer), \n",
        "Column('occupied_count', Integer),\n",
        "Column('probability', Float)\n",
        ")\n",
        "meta.create_all(my_conn)\n",
        "\n",
        "# my_conn.execute('''\n",
        "# CREATE TABLE IF NOT EXISTS my_db.test\n",
        "# (\n",
        "#   node_id INT,\n",
        "#   free_parkings INT,\n",
        "#   occupied_parkings INT,\n",
        "#   probability DECIMAL(18,4)\n",
        "# )\n",
        "#  ''')\n",
        "# \n",
        "\n"
      ],
      "metadata": {
        "id": "SkWEA3gTYEzx"
      },
      "execution_count": 14,
      "outputs": []
    },
    {
      "cell_type": "code",
      "execution_count": 5,
      "metadata": {
        "id": "NFaCas82PTUv"
      },
      "outputs": [],
      "source": [
        "def find_osm_node_id(coordinate):\n",
        "  lat = coordinate[0]\n",
        "  lon = coordinate[1]\n",
        "  # get the way id - request json format of the reverse method of OSM librery nominatim\n",
        "  request_url = \"https://nominatim.openstreetmap.org/reverse?format=geojson&osm_type=N&lat=\" + f'{lat:f}' + \"&lon=\" + f'{lon:f}'\n",
        "  #print(request_url)\n",
        "  response = requests.get(request_url)\n",
        "  way_id_response = json.loads(response.text)\n",
        "  #print(way_id_response)\n",
        "  osm_type = way_id_response['features'][0]['properties']['osm_type']\n",
        "  node_id = way_id_response['features'][0]['properties']['osm_id'] \n",
        "  if osm_type != \"node\":\n",
        "    print(\"not node:\")\n",
        "    print(node_id)\n",
        "\n",
        "  return node_id"
      ]
    },
    {
      "cell_type": "code",
      "source": [
        "def calculate_coords(list_of_old_coorinates):\n",
        "  transformed_coordinates = []\n",
        "  for old_cord in list_of_old_coorinates:\n",
        "    old_lat = old_cord[0]\n",
        "    old_lon = old_cord[1]\n",
        "    # get the latitude and longitude in the right coordinates \n",
        "    # from the original format EPSG:25833 to format: EPSG:4326\n",
        "    request_url = \"https://epsg.io/trans?s_srs=25833&t_srs=4326&x=\"+str(old_lat)+\"&y=\" + str(old_lon)\n",
        "    response = requests.get(request_url)\n",
        "    transform_coordinates_response = json.loads(response.text)\n",
        "    trans_lon = transform_coordinates_response['x']\n",
        "    trans_lat = transform_coordinates_response['y']\n",
        "    transformed_coordinates.append([float(trans_lat), float(trans_lon)])\n",
        "  \n",
        "  return transformed_coordinates\n"
      ],
      "metadata": {
        "id": "XRziUtk2UD9e"
      },
      "execution_count": 6,
      "outputs": []
    },
    {
      "cell_type": "code",
      "source": [
        "def transform_line(line):\n",
        "  old_coords = line['geometry']['coordinates'][0][0]\n",
        "  transformed_coords = calculate_coords(old_coords)\n",
        "  osm_id = find_osm_node_id(transformed_coords[0])\n",
        "  # calculate parking area\n",
        "  all_lats = [x for x,y in transformed_coords]\n",
        "  all_lons = [y for x,y in transformed_coords]\n",
        "  parking_area = polygon_area(all_lats, all_lons) # we multiply by 1000 to convet to m2 instead of km2\n",
        "  # calculate number of parking spots in the parking area\n",
        "  single_parking_area = 4.88 * 2.44\n",
        "  number_of_parking = parking_area / single_parking_area\n",
        "  # print(number_of_parking)\n",
        "  # get the label (parking empty/occupied)\n",
        "  line_label = line['properties']['label_x']\n",
        "\n",
        "  return osm_id, line_label, number_of_parking"
      ],
      "metadata": {
        "id": "iP8edSm8Xl_8"
      },
      "execution_count": 7,
      "outputs": []
    },
    {
      "cell_type": "code",
      "source": [
        "# line = '{ \"type\": \"Feature\", \"properties\": { \"id\": 1, \"label_x\": \"PK-space-occupied\", \"True_or_False\": null, \"label_y\": null, \"nearest_geometry_dis\": null, \"parking_area_m2\": null, \"layer\": \"Annotaions Predictions\", \"path\": \"F:/Berlin-DOP_2020/Predictions/Previously created maps/Annotations/Annotaions.geojson\" }, \"geometry\": { \"type\": \"MultiPolygon\", \"coordinates\": [ [ [ [ 391008.0878, 5821088.3568 ], [ 391002.407, 5821095.493 ], [ 391004.3319, 5821096.9484 ], [ 391009.8718, 5821089.4366 ], [ 391008.1817, 5821088.2629 ], [ 391008.0878, 5821088.3568 ] ] ] ] } }'\n",
        "# #line = line.replace(\"null\", \"None\")\n",
        "# json_line = json.loads(line)\n",
        "# transform_line(json_line)"
      ],
      "metadata": {
        "id": "vqpuinsZGsxg"
      },
      "execution_count": null,
      "outputs": []
    },
    {
      "cell_type": "code",
      "source": [
        "# osm_id = find_osm_node_id([52.54203249, 13.41329482])\n",
        "# print(osm_id)"
      ],
      "metadata": {
        "colab": {
          "base_uri": "https://localhost:8080/"
        },
        "id": "GTs6Li0p-XdX",
        "outputId": "ed6c819e-b45d-461e-d844-2de04b5c198a"
      },
      "execution_count": null,
      "outputs": [
        {
          "output_type": "stream",
          "name": "stdout",
          "text": [
            "692194370\n"
          ]
        }
      ]
    },
    {
      "cell_type": "code",
      "source": [
        "# input_coord = [ [ 392395.9, 5822510.25 ], [ 392396.65, 5822510.8 ], [ 392398.25, 5822513.5 ], [ 392398.15, 5822513.8 ], [ 392397.6, 5822514.35 ], [ 392397.1, 5822514.65 ], [ 392396.6, 5822514.55 ], [ 392396.25, 5822514.2 ], [ 392395.15, 5822512.6 ], [ 392394.95, 5822512.1 ], [ 392394.95, 5822511.6 ], [ 392395.35, 5822510.7 ], [ 392395.9, 5822510.25 ]]\n",
        "\n",
        "# output_coord = calculate_coords(input_coord)\n",
        "\n",
        "# print(output_coord)\n",
        "\n",
        "# for cord in output_coord:\n",
        "#   found_id = find_osm_node_id(cord)\n",
        "#   print(found_id)"
      ],
      "metadata": {
        "id": "bLIb4hRMgvKE"
      },
      "execution_count": null,
      "outputs": []
    },
    {
      "cell_type": "code",
      "source": [
        "# # first way to calculate area on the earth surface\n",
        "\n",
        "# !pip install area\n",
        "# from area import area\n",
        "# poly_obj = {'type':'Polygon','coordinates':[[[52.54203249, 13.41329482], [52.54203758, 13.41330569], [52.54206216, 13.4133284], [52.54206483, 13.41332683], [52.54206967, 13.41331855], [52.54207226, 13.41331108], [52.54207127, 13.41330374], [52.54206805, 13.4132987], [52.54205346, 13.413283], [52.54204892, 13.41328021], [52.54204443, 13.41328038], [52.54203642, 13.41328656], [52.54203249, 13.41329482]]]}\n",
        "# area(poly_obj)"
      ],
      "metadata": {
        "id": "NL3ofPzG9MAu",
        "outputId": "d26b14eb-a7eb-43a1-aa1a-a9b3a743eb94",
        "colab": {
          "base_uri": "https://localhost:8080/"
        }
      },
      "execution_count": 10,
      "outputs": [
        {
          "output_type": "stream",
          "name": "stdout",
          "text": [
            "Looking in indexes: https://pypi.org/simple, https://us-python.pkg.dev/colab-wheels/public/simple/\n",
            "Collecting area\n",
            "  Downloading area-1.1.1.tar.gz (4.1 kB)\n",
            "Building wheels for collected packages: area\n",
            "  Building wheel for area (setup.py) ... \u001b[?25l\u001b[?25hdone\n",
            "  Created wheel for area: filename=area-1.1.1-py3-none-any.whl size=3626 sha256=bb8dfa4d9f257f66d2c242882bbc524ff9e7cfdda5fdea43f7f5ab7868060a82\n",
            "  Stored in directory: /root/.cache/pip/wheels/59/e8/a2/0a9be8239358f5e3b48e1b5cb756f98b0f992b881e1b8b21b2\n",
            "Successfully built area\n",
            "Installing collected packages: area\n",
            "Successfully installed area-1.1.1\n"
          ]
        },
        {
          "output_type": "execute_result",
          "data": {
            "text/plain": [
              "13.324528739947908"
            ]
          },
          "metadata": {},
          "execution_count": 10
        }
      ]
    },
    {
      "cell_type": "code",
      "source": [
        "# second (and more precise) way for calculating the area on earth surface\n",
        "\n",
        "def polygon_area(lats, lons, radius = 6378137):\n",
        "    \"\"\"\n",
        "    Computes area of spherical polygon, assuming spherical Earth. \n",
        "    Returns result in ratio of the sphere's area if the radius is specified.\n",
        "    Otherwise, in the units of provided radius.\n",
        "    lats and lons are in degrees.\n",
        "    \"\"\"\n",
        "    from numpy import arctan2, cos, sin, sqrt, pi, power, append, diff, deg2rad\n",
        "    lats = np.deg2rad(lats)\n",
        "    lons = np.deg2rad(lons)\n",
        "\n",
        "    # Line integral based on Green's Theorem, assumes spherical Earth\n",
        "\n",
        "    #close polygon\n",
        "    if lats[0]!=lats[-1]:\n",
        "        lats = append(lats, lats[0])\n",
        "        lons = append(lons, lons[0])\n",
        "\n",
        "    #colatitudes relative to (0,0)\n",
        "    a = sin(lats/2)**2 + cos(lats)* sin(lons/2)**2\n",
        "    colat = 2*arctan2( sqrt(a), sqrt(1-a) )\n",
        "\n",
        "    #azimuths relative to (0,0)\n",
        "    az = arctan2(cos(lats) * sin(lons), sin(lats)) % (2*pi)\n",
        "\n",
        "    # Calculate diffs\n",
        "    # daz = diff(az) % (2*pi)\n",
        "    daz = diff(az)\n",
        "    daz = (daz + pi) % (2 * pi) - pi\n",
        "\n",
        "    deltas=diff(colat)/2\n",
        "    colat=colat[0:-1]+deltas\n",
        "\n",
        "    # Perform integral\n",
        "    integrands = (1-cos(colat)) * daz\n",
        "\n",
        "    # Integrate \n",
        "    area = abs(sum(integrands))/(4*pi)\n",
        "\n",
        "    area = min(area,1-area)\n",
        "    if radius is not None: #return in units of radius\n",
        "        return area * 4*pi*radius**2\n",
        "    else: #return in ratio of sphere total area\n",
        "        return area"
      ],
      "metadata": {
        "id": "768U9_dp9JtF"
      },
      "execution_count": 8,
      "outputs": []
    },
    {
      "cell_type": "code",
      "source": [
        "# from sqlalchemy.dialects.postgresql import insert\n",
        "from sqlalchemy.dialects.sqlite import insert\n",
        "\n",
        "def save_data_to_db(empty_count, occupied_count):\n",
        "  # save all the empty data\n",
        "  for node, count in empty_count.items():\n",
        "    res = my_conn.execute(f'''select * from parking_data where node_id = {node}''').first()\n",
        "    if not res:\n",
        "      stmt = (insert(parking_data_table).values(node_id = node, free_count = count, occupied_count = 0, probability = 0))\n",
        "    else:\n",
        "      existing_count = res['free_count']\n",
        "      stmt = (update(parking_data_table).where(parking_data_table.c.node_id == node).values(free_count = count + existing_count))\n",
        "    my_conn.execute(stmt)\n",
        "  # save all the occupied data\n",
        "  for node, count in occupied_count.items():\n",
        "    res = my_conn.execute(f'''select * from parking_data where node_id = {node}''').first()\n",
        "    if not res:\n",
        "      stmt = (insert(parking_data_table).values(node_id = node, free_count = 0, occupied_count = count, probability = 0))\n",
        "    else:\n",
        "      existing_count = res['occupied_count']\n",
        "      stmt = (update(parking_data_table).where(parking_data_table.c.node_id == node).values(occupied_count = count + existing_count))\n",
        "    my_conn.execute(stmt)\n",
        "       "
      ],
      "metadata": {
        "id": "-F9ce_RsgRsC"
      },
      "execution_count": 9,
      "outputs": []
    },
    {
      "cell_type": "code",
      "source": [
        "# emptty = {\"123\" : 10, \"456\" :20, \"789\" :5 }\n",
        "# occ = {\"123\": 10, \"789\" :20}\n",
        "\n",
        "# save_data_to_db(emptty, occ)\n",
        "\n",
        "# res_table = my_conn.execute('''SELECT * FROM parking_data''', multi=True)\n",
        "# for row in res_table:\n",
        "#   print(row)"
      ],
      "metadata": {
        "id": "-BVtxF33pnhH",
        "outputId": "b37f775a-33e8-4384-fc8c-6d59c102ac38",
        "colab": {
          "base_uri": "https://localhost:8080/"
        }
      },
      "execution_count": null,
      "outputs": [
        {
          "output_type": "stream",
          "name": "stdout",
          "text": [
            "(123, 20, 10, 0.0)\n",
            "(456, 40, 0, 0.0)\n",
            "(789, 10, 20, 0.0)\n"
          ]
        }
      ]
    },
    {
      "cell_type": "code",
      "source": [
        "file_path = \"parking01.geojson\"\n",
        "# count the parking spots members:\n",
        "empty_pk_spots = {}\n",
        "occupied_pk_spots = {}\n",
        "\n",
        "# open the file using geojson (less updated)\n",
        "with open(file_path) as f:\n",
        "    data_file = geojson.load(f)\n",
        "    features_array = data_file['features']\n",
        "\n",
        "    i = 1\n",
        "    for feature in features_array:\n",
        "      node_id, label, amount = transform_line(feature)\n",
        "      if label == 'PK-space-occupied':\n",
        "        occupied_count = occupied_pk_spots.setdefault(node_id, 0)\n",
        "        occupied_pk_spots[node_id] = occupied_count + amount\n",
        "      elif label == 'PK-space-empty':\n",
        "        empty_count = empty_pk_spots.setdefault(node_id, 0)\n",
        "        empty_pk_spots[node_id] = empty_count + amount\n",
        "      print(i)\n",
        "      i +=1\n",
        "\n"
      ],
      "metadata": {
        "id": "4F3N5NiDpChZ",
        "outputId": "ff54614a-5941-469f-ed9f-d58a494e2bd0",
        "colab": {
          "base_uri": "https://localhost:8080/"
        }
      },
      "execution_count": 37,
      "outputs": [
        {
          "output_type": "stream",
          "name": "stdout",
          "text": [
            "not node:\n",
            "105786501\n",
            "1\n",
            "not node:\n",
            "105785522\n",
            "2\n",
            "not node:\n",
            "105785522\n",
            "3\n",
            "4\n",
            "5\n",
            "6\n",
            "7\n",
            "8\n",
            "9\n",
            "10\n",
            "not node:\n",
            "105785522\n",
            "11\n",
            "not node:\n",
            "116676564\n",
            "12\n",
            "not node:\n",
            "116676564\n",
            "13\n",
            "not node:\n",
            "116676564\n",
            "14\n",
            "15\n",
            "16\n",
            "not node:\n",
            "116676564\n",
            "17\n",
            "18\n",
            "19\n",
            "20\n",
            "21\n",
            "not node:\n",
            "8003639\n",
            "22\n",
            "not node:\n",
            "8003639\n",
            "23\n"
          ]
        }
      ]
    },
    {
      "cell_type": "code",
      "source": [
        "print(\"empty:\")\n",
        "print(empty_pk_spots)\n",
        "print(\"occupied:\")\n",
        "print(occupied_pk_spots)"
      ],
      "metadata": {
        "colab": {
          "base_uri": "https://localhost:8080/"
        },
        "id": "tIDU22ybCjFJ",
        "outputId": "f5c38c96-68c0-4973-cd9d-c3ff4c11d9aa"
      },
      "execution_count": 38,
      "outputs": [
        {
          "output_type": "stream",
          "name": "stdout",
          "text": [
            "empty:\n",
            "{105786501: 1.18334310247727, 3287262594: 2.903387384835529, 3287262593: 5.339267996646047, 105785522: 1.3861212311165532, 116676564: 0.9545787288717174, 2307922683: 1.4871343027265431}\n",
            "occupied:\n",
            "{105785522: 8.764880831109842, 1552571091: 0.9428008836676205, 3287262594: 4.011703572180098, 3287262593: 2.2304241218914114, 2775407349: 3.6699891299647796, 116676564: 3.115356370433541, 3942724528: 6.091368660966893, 2307922682: 4.8701263199961735, 2307922683: 0.9153913255010714, 3942724527: 2.240891713196002, 8003639: 2.4721889792278544}\n"
          ]
        }
      ]
    },
    {
      "cell_type": "code",
      "source": [
        "save_data_to_db(empty_pk_spots, occupied_pk_spots)\n"
      ],
      "metadata": {
        "id": "LP5S1IQNChfj"
      },
      "execution_count": 39,
      "outputs": []
    },
    {
      "cell_type": "code",
      "source": [
        "res = my_conn.execute('''SELECT * FROM parking_data''')\n",
        "for row in res:\n",
        "  print(row)"
      ],
      "metadata": {
        "colab": {
          "base_uri": "https://localhost:8080/"
        },
        "id": "tTnLNRNSSfMK",
        "outputId": "8e46b0d7-818a-4b62-c5d7-7f7a2f03cb8f"
      },
      "execution_count": 40,
      "outputs": [
        {
          "output_type": "stream",
          "name": "stdout",
          "text": [
            "(5758790, 1.1292034502088655, 0.9776583733410222, 0.0)\n",
            "(8003639, 0, 2.4721889792278544, 0.0)\n",
            "(8096771, 0, 3.879675512026155, 0.0)\n",
            "(14375945, 5.516922340500731, 5.52847419271513, 0.0)\n",
            "(53332487, 0, 4.394433944935039, 0.0)\n",
            "(105785522, 1.3861212311165532, 8.764880831109842, 0.0)\n",
            "(105785524, 2.3836993328282405, 2.58932345058464, 0.0)\n",
            "(105786490, 0, 1.334996409733918, 0.0)\n",
            "(105786498, 0.8064958209593136, 1.7792826549581546, 0.0)\n",
            "(105786501, 1.18334310247727, 0.7437078437787472, 0.0)\n",
            "(116676564, 0.9545787288717174, 5.801592701118486, 0.0)\n",
            "(147659855, 0, 5.432921149689277, 0.0)\n",
            "(201198297, 2.0029608734866473, 6.7468028182023, 0.0)\n",
            "(267229891, 0, 0.4576637892637606, 0.0)\n",
            "(267229894, 0, 9.57866406382976, 0.0)\n",
            "(390623189, 3.61077633903416, 5.029750960682275, 0.0)\n",
            "(391005378, 0, 0.7028286867728982, 0.0)\n",
            "(631984925, 0, 0.8402897642382336, 0.0)\n",
            "(1552051077, 0, 1.4282746711833196, 0.0)\n",
            "(1552051124, 0, 1.6616887510617069, 0.0)\n",
            "(1552051256, 0, 2.498028741402475, 0.0)\n",
            "(1552051660, 0, 1.6393633155856087, 0.0)\n",
            "(1552052636, 0, 6.417538432867099, 0.0)\n",
            "(1552052907, 0, 6.737280896112312, 0.0)\n",
            "(1552052958, 0, 0.5315717364986046, 0.0)\n",
            "(1552053242, 0, 3.275642161220875, 0.0)\n",
            "(1552053428, 0, 5.189495092624347, 0.0)\n",
            "(1552053576, 0, 6.575882526268243, 0.0)\n",
            "(1552053780, 0, 4.791150197598436, 0.0)\n",
            "(1552053892, 1.7515186787648878, 4.401370089071079, 0.0)\n",
            "(1552053966, 1.1371001270405288, 3.255304920224441, 0.0)\n",
            "(1552071007, 0, 1.588535892374315, 0.0)\n",
            "(1552073533, 0, 2.552538417419793, 0.0)\n",
            "(1552075328, 1.9805162752987462, 0.9942145666801077, 0.0)\n",
            "(1552075377, 0.9114028253981122, 1.8386760471624883, 0.0)\n",
            "(1552076309, 0.9405642665702406, 3.4931354288934706, 0.0)\n",
            "(1552571091, 0, 2.0375815675513094, 0.0)\n",
            "(2252633753, 0, 2.467217623851669, 0.0)\n",
            "(2252633764, 0, 2.1957726547775467, 0.0)\n",
            "(2252768279, 0, 3.37463854919491, 0.0)\n",
            "(2252768316, 0, 7.435753796131304, 0.0)\n",
            "(2252782291, 0, 1.7666799495781236, 0.0)\n",
            "(2252782292, 0, 1.5941807771526952, 0.0)\n",
            "(2252782294, 0, 1.4370040058810676, 0.0)\n",
            "(2307922682, 0, 4.8701263199961735, 0.0)\n",
            "(2307922683, 1.4871343027265431, 0.9153913255010714, 0.0)\n",
            "(2441844084, 0, 9.420408556082778, 0.0)\n",
            "(2495729512, 0, 3.534987033633969, 0.0)\n",
            "(2495729518, 0, 12.02115026111144, 0.0)\n",
            "(2496163805, 0, 2.7803431788968815, 0.0)\n",
            "(2775407318, 0, 12.848940460608237, 0.0)\n",
            "(2775407349, 0, 3.6699891299647796, 0.0)\n",
            "(2844218749, 0, 19.177010083832272, 0.0)\n",
            "(2844218758, 0, 1.1741023106032855, 0.0)\n",
            "(2904138761, 0, 3.245169323258887, 0.0)\n",
            "(3034708111, 0, 3.690903188214933, 0.0)\n",
            "(3034708112, 0, 7.447050649644724, 0.0)\n",
            "(3034708149, 0.970194917421399, 9.797918427603527, 0.0)\n",
            "(3034708151, 0.9229111269488891, 1.407726025715769, 0.0)\n",
            "(3034708196, 0, 0.6004493382994739, 0.0)\n",
            "(3034708853, 0, 7.80717922896307, 0.0)\n",
            "(3239156204, 0, 0.7213017800551424, 0.0)\n",
            "(3287262593, 5.339267996646047, 2.2304241218914114, 0.0)\n",
            "(3287262594, 2.903387384835529, 4.011703572180098, 0.0)\n",
            "(3942724527, 0, 2.240891713196002, 0.0)\n",
            "(3942724528, 0, 6.091368660966893, 0.0)\n",
            "(5592220398, 0, 5.354416774370622, 0.0)\n",
            "(6975869450, 8.444376535039284, 9.045563388627968, 0.0)\n"
          ]
        }
      ]
    },
    {
      "cell_type": "code",
      "source": [
        "# def get_prob_for_node(node_id, index):\n",
        "#     # print('index = ' + str(index))\n",
        "#     # print('node_id = ' + str(node_id))\n",
        "#     f = open(\"probabilities.osm\", \"r\")\n",
        "#     flag=-1\n",
        "#     for line in f.readlines():\n",
        "#         if line.startswith('\\t\\t<nd ref'):\n",
        "#             start_index = (line.index('=')) + 2 #the starting of the node_id number\n",
        "#             end_index= (line.index('/')) -1            \n",
        "#             if (line[start_index:end_index]) == node_id:\n",
        "#               flag=0  # it means that the next tag we will see we will go inside\n",
        "#         elif flag == 0 and line.startswith('\\t\\t<tag'):\n",
        "#           start = line.index('v')\n",
        "#           end = len(line) - 4\n",
        "#           temp_list = line[start+3:end].split(',')\n",
        "#           prob_list = [eval(i) for i in temp_list]\n",
        "#           print('prob_list = ' + str(prob_list))\n",
        "#           print('prob_list value = ' + str(prob_list[index]))\n",
        "#           return prob_list[index]\n",
        "#     return 0 #if didn't find- return 0"
      ],
      "metadata": {
        "id": "gAgfiP6UIrZA"
      },
      "execution_count": null,
      "outputs": []
    },
    {
      "cell_type": "code",
      "source": [
        "# def most_common_highest_probability():\n",
        "#     file = open(\"probabilities.osm\", \"r\")\n",
        "#     bucket_list = [0] * 168 # 24 * 7\n",
        "#     for line in file.readlines():\n",
        "#         if line.startswith('\\t\\t<tag'):\n",
        "#             index = line.index('v')\n",
        "#             end = len(line) - line[::-1].index('\"') -1\n",
        "#             temp_list = line[index+3:end].split(',')\n",
        "#             for index in range(len(temp_list)):\n",
        "#                 if temp_list[index] not in ['', '0']:\n",
        "#                     bucket_list[index] += 1\n",
        "#     print('bucket_list = ' + str(bucket_list))\n",
        "#     return bucket_list.index(max(bucket_list))"
      ],
      "metadata": {
        "id": "Or4t_D2YIxk_"
      },
      "execution_count": null,
      "outputs": []
    },
    {
      "cell_type": "code",
      "source": [
        "# def prepare_data_for_model():\n",
        "#   data_list=[]\n",
        "#   relevant_index= most_common_highest_probability()\n",
        "#   for node_id in empty_pk_spots.keys():\n",
        "#     num_of_empty= empty_pk_spots[node_id]\n",
        "#     if node_id in occupied_pk_spots:\n",
        "#       num_of_occupied= occupied_pk_spots[node_id]\n",
        "#     else:\n",
        "#       num_of_occupied=0\n",
        "#     prob_for_empty_parking= get_prob_for_node(node_id, relevant_index)\n",
        "#     data_list.append([num_of_empty, num_of_occupied, prob_for_empty_parking])\n",
        "\n",
        "#   for node_id in occupied_pk_spots.keys():\n",
        "#     if node_id not in empty_pk_spots: # so we didn't go through it yet and the probability is 0\n",
        "#       prob_for_empty_parking= get_prob_for_node(node_id, relevant_index)\n",
        "#       data_list.append([0, occupied_pk_spots[node_id], prob_for_empty_parking])\n",
        "  \n",
        "#   return data_list\n"
      ],
      "metadata": {
        "id": "6R5s1vmQIzFw"
      },
      "execution_count": null,
      "outputs": []
    },
    {
      "cell_type": "code",
      "source": [
        "# data = prepare_data_for_model()\n",
        "# print(data)"
      ],
      "metadata": {
        "id": "13fq8JVWI2rn"
      },
      "execution_count": null,
      "outputs": []
    }
  ]
}